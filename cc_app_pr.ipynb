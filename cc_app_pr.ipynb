{
  "cells": [
    {
      "cell_type": "markdown",
      "source": [
        "### Importing packages nad libraries"
      ],
      "metadata": {
        "id": "1sRgTmAW9WlO"
      }
    },
    {
      "cell_type": "code",
      "source": [
        "import pandas as pd\n",
        "import numpy as np\n",
        "from sklearn.model_selection import train_test_split\n",
        "from sklearn.impute import SimpleImputer\n",
        "from sklearn.preprocessing import OneHotEncoder\n",
        "from sklearn.compose import ColumnTransformer\n",
        "from sklearn.preprocessing import LabelEncoder\n",
        "from sklearn.preprocessing import MinMaxScaler\n",
        "from sklearn.linear_model import LogisticRegression\n",
        "from sklearn.metrics import confusion_matrix\n",
        "from sklearn.model_selection import GridSearchCV"
      ],
      "metadata": {
        "id": "KdFd8DYc9lxN"
      },
      "execution_count": 137,
      "outputs": []
    },
    {
      "cell_type": "markdown",
      "metadata": {
        "id": "0FqNkzk4oani"
      },
      "source": [
        "#### Load and showcase our Dataset"
      ]
    },
    {
      "cell_type": "code",
      "execution_count": 11,
      "metadata": {
        "colab": {
          "base_uri": "https://localhost:8080/"
        },
        "id": "3_Y8UbfEoann",
        "outputId": "43597799-d5dc-4de7-aff3-2fa9cfd910ca"
      },
      "outputs": [
        {
          "output_type": "stream",
          "name": "stdout",
          "text": [
            "     b  30.83       0  u  g   w   v  1.25  t t.1  01  f g.1  00202  0.1  +\n",
            "0    a  58.67   4.460  u  g   q   h  3.04  t   t   6  f   g  00043  560  +\n",
            "1    a  24.50   0.500  u  g   q   h  1.50  t   f   0  f   g  00280  824  +\n",
            "2    b  27.83   1.540  u  g   w   v  3.75  t   t   5  t   g  00100    3  +\n",
            "3    b  20.17   5.625  u  g   w   v  1.71  t   f   0  f   s  00120    0  +\n",
            "4    b  32.08   4.000  u  g   m   v  2.50  t   f   0  t   g  00360    0  +\n",
            "..  ..    ...     ... .. ..  ..  ..   ... ..  ..  .. ..  ..    ...  ... ..\n",
            "684  b  21.08  10.085  y  p   e   h  1.25  f   f   0  f   g  00260    0  -\n",
            "685  a  22.67   0.750  u  g   c   v  2.00  f   t   2  t   g  00200  394  -\n",
            "686  a  25.25  13.500  y  p  ff  ff  2.00  f   t   1  t   g  00200    1  -\n",
            "687  b  17.92   0.205  u  g  aa   v  0.04  f   f   0  f   g  00280  750  -\n",
            "688  b  35.00   3.375  u  g   c   h  8.29  f   f   0  t   g  00000    0  -\n",
            "\n",
            "[689 rows x 16 columns]\n",
            "    Gender    Age    Debt Married BankCustomer EducationLevel Ethnicity  \\\n",
            "0        a  58.67   4.460       u            g              q         h   \n",
            "1        a  24.50   0.500       u            g              q         h   \n",
            "2        b  27.83   1.540       u            g              w         v   \n",
            "3        b  20.17   5.625       u            g              w         v   \n",
            "4        b  32.08   4.000       u            g              m         v   \n",
            "..     ...    ...     ...     ...          ...            ...       ...   \n",
            "684      b  21.08  10.085       y            p              e         h   \n",
            "685      a  22.67   0.750       u            g              c         v   \n",
            "686      a  25.25  13.500       y            p             ff        ff   \n",
            "687      b  17.92   0.205       u            g             aa         v   \n",
            "688      b  35.00   3.375       u            g              c         h   \n",
            "\n",
            "     YearsEmployed PriorDefault Employed  CreditScore DriversLicense Citizen  \\\n",
            "0             3.04            t        t            6              f       g   \n",
            "1             1.50            t        f            0              f       g   \n",
            "2             3.75            t        t            5              t       g   \n",
            "3             1.71            t        f            0              f       s   \n",
            "4             2.50            t        f            0              t       g   \n",
            "..             ...          ...      ...          ...            ...     ...   \n",
            "684           1.25            f        f            0              f       g   \n",
            "685           2.00            f        t            2              t       g   \n",
            "686           2.00            f        t            1              t       g   \n",
            "687           0.04            f        f            0              f       g   \n",
            "688           8.29            f        f            0              t       g   \n",
            "\n",
            "    ZipCode  Income ApprovalStatus  \n",
            "0     00043     560              +  \n",
            "1     00280     824              +  \n",
            "2     00100       3              +  \n",
            "3     00120       0              +  \n",
            "4     00360       0              +  \n",
            "..      ...     ...            ...  \n",
            "684   00260       0              -  \n",
            "685   00200     394              -  \n",
            "686   00200       1              -  \n",
            "687   00280     750              -  \n",
            "688   00000       0              -  \n",
            "\n",
            "[689 rows x 16 columns]\n"
          ]
        }
      ],
      "source": [
        "#loading data\n",
        "cc_apps = pd.read_csv(\"crx.data\")\n",
        "print(cc_apps)\n",
        "\n",
        "#renaming features to make visualising our dataframe much easier\n",
        "cc_apps.columns = [\"Gender\", \"Age\", \"Debt\", \"Married\", \"BankCustomer\", \"EducationLevel\", \"Ethnicity\", \"YearsEmployed\", \"PriorDefault\", \"Employed\", \"CreditScore\", \"DriversLicense\", \"Citizen\", \"ZipCode\", \"Income\", \"ApprovalStatus\"]\n",
        "print(cc_apps)\n",
        "#notice that we lost one row but it wouldn't make much difference"
      ]
    },
    {
      "cell_type": "markdown",
      "source": [
        "### Inspecting our data\n"
      ],
      "metadata": {
        "id": "iGTcVBDAsJdm"
      }
    },
    {
      "cell_type": "code",
      "source": [
        "#using pandas method describe to print summary statistics\n",
        "cc_apps_description = cc_apps.describe()\n",
        "print(cc_apps_description)\n",
        "\n",
        "#print DataFrame information\n",
        "cc_apps_info = cc_apps.info()\n",
        "print(cc_apps_info)\n",
        "\n",
        "#we have two features that will not affect our models performance so its best if we remove them\n",
        "cc_apps = cc_apps.drop([\"DriversLicense\", \"ZipCode\"], axis=1)\n",
        "print(cc_apps)"
      ],
      "metadata": {
        "colab": {
          "base_uri": "https://localhost:8080/"
        },
        "id": "wlIs7G_jseos",
        "outputId": "bdfdce9d-1a7c-4565-ea19-e765892f6d1e"
      },
      "execution_count": 12,
      "outputs": [
        {
          "output_type": "stream",
          "name": "stdout",
          "text": [
            "             Debt  YearsEmployed  CreditScore         Income\n",
            "count  689.000000     689.000000   689.000000     689.000000\n",
            "mean     4.765631       2.224819     2.402032    1018.862119\n",
            "std      4.978470       3.348739     4.866180    5213.743149\n",
            "min      0.000000       0.000000     0.000000       0.000000\n",
            "25%      1.000000       0.165000     0.000000       0.000000\n",
            "50%      2.750000       1.000000     0.000000       5.000000\n",
            "75%      7.250000       2.625000     3.000000     396.000000\n",
            "max     28.000000      28.500000    67.000000  100000.000000\n",
            "<class 'pandas.core.frame.DataFrame'>\n",
            "RangeIndex: 689 entries, 0 to 688\n",
            "Data columns (total 16 columns):\n",
            " #   Column          Non-Null Count  Dtype  \n",
            "---  ------          --------------  -----  \n",
            " 0   Gender          689 non-null    object \n",
            " 1   Age             689 non-null    object \n",
            " 2   Debt            689 non-null    float64\n",
            " 3   Married         689 non-null    object \n",
            " 4   BankCustomer    689 non-null    object \n",
            " 5   EducationLevel  689 non-null    object \n",
            " 6   Ethnicity       689 non-null    object \n",
            " 7   YearsEmployed   689 non-null    float64\n",
            " 8   PriorDefault    689 non-null    object \n",
            " 9   Employed        689 non-null    object \n",
            " 10  CreditScore     689 non-null    int64  \n",
            " 11  DriversLicense  689 non-null    object \n",
            " 12  Citizen         689 non-null    object \n",
            " 13  ZipCode         689 non-null    object \n",
            " 14  Income          689 non-null    int64  \n",
            " 15  ApprovalStatus  689 non-null    object \n",
            "dtypes: float64(2), int64(2), object(12)\n",
            "memory usage: 86.2+ KB\n",
            "None\n",
            "    Gender    Age    Debt Married BankCustomer EducationLevel Ethnicity  \\\n",
            "0        a  58.67   4.460       u            g              q         h   \n",
            "1        a  24.50   0.500       u            g              q         h   \n",
            "2        b  27.83   1.540       u            g              w         v   \n",
            "3        b  20.17   5.625       u            g              w         v   \n",
            "4        b  32.08   4.000       u            g              m         v   \n",
            "..     ...    ...     ...     ...          ...            ...       ...   \n",
            "684      b  21.08  10.085       y            p              e         h   \n",
            "685      a  22.67   0.750       u            g              c         v   \n",
            "686      a  25.25  13.500       y            p             ff        ff   \n",
            "687      b  17.92   0.205       u            g             aa         v   \n",
            "688      b  35.00   3.375       u            g              c         h   \n",
            "\n",
            "     YearsEmployed PriorDefault Employed  CreditScore Citizen  Income  \\\n",
            "0             3.04            t        t            6       g     560   \n",
            "1             1.50            t        f            0       g     824   \n",
            "2             3.75            t        t            5       g       3   \n",
            "3             1.71            t        f            0       s       0   \n",
            "4             2.50            t        f            0       g       0   \n",
            "..             ...          ...      ...          ...     ...     ...   \n",
            "684           1.25            f        f            0       g       0   \n",
            "685           2.00            f        t            2       g     394   \n",
            "686           2.00            f        t            1       g       1   \n",
            "687           0.04            f        f            0       g     750   \n",
            "688           8.29            f        f            0       g       0   \n",
            "\n",
            "    ApprovalStatus  \n",
            "0                +  \n",
            "1                +  \n",
            "2                +  \n",
            "3                +  \n",
            "4                +  \n",
            "..             ...  \n",
            "684              -  \n",
            "685              -  \n",
            "686              -  \n",
            "687              -  \n",
            "688              -  \n",
            "\n",
            "[689 rows x 14 columns]\n"
          ]
        }
      ]
    },
    {
      "cell_type": "markdown",
      "source": [
        "### Handling missing values (part I)"
      ],
      "metadata": {
        "id": "VBTcNlQUwIRO"
      }
    },
    {
      "cell_type": "code",
      "source": [
        "#this dataset indicates missing values with '?' so we have to replace it with NaN\n",
        "cc_apps = cc_apps.replace(\"?\", np.NaN)"
      ],
      "metadata": {
        "id": "zACILcv9wPzt"
      },
      "execution_count": 13,
      "outputs": []
    },
    {
      "cell_type": "code",
      "source": [
        "#Age feature is not a float despite looking like one\n",
        "cc_num = cc_apps.drop([\"Gender\", \"PriorDefault\", \"Employed\", \"Citizen\", \"Married\", \"BankCustomer\", \"EducationLevel\", \"Ethnicity\", \"ApprovalStatus\"], axis = 1).values\n",
        "cc_cat = cc_apps.drop([\"Age\", \"Debt\", \"YearsEmployed\", \"CreditScore\", \"Income\"], axis = 1).values\n",
        "cc_num[:, 0] = cc_num[:, 0].astype('float')"
      ],
      "metadata": {
        "id": "6R9FuUxIwQdl"
      },
      "execution_count": 166,
      "outputs": []
    },
    {
      "cell_type": "markdown",
      "source": [
        "### Splitting the dataset into train and test sets"
      ],
      "metadata": {
        "id": "H7sAIdnitaC2"
      }
    },
    {
      "cell_type": "code",
      "source": [
        "cc_num_train, cc_num_test = train_test_split(cc_num, test_size = 0.3, random_state = 42)\n",
        "cc_cat_train, cc_cat_test = train_test_split(cc_cat, test_size = 0.3, random_state = 42)"
      ],
      "metadata": {
        "id": "qinoRFubtfNd"
      },
      "execution_count": 165,
      "outputs": []
    },
    {
      "cell_type": "markdown",
      "source": [
        "### Handling missing data (part II)"
      ],
      "metadata": {
        "id": "ybGwTZHA7nf3"
      }
    },
    {
      "cell_type": "code",
      "source": [
        "#handling categorical data\n",
        "\n",
        "imp_cat = SimpleImputer(strategy = 'most_frequent')\n",
        "cc_cat_train = imp_cat.fit_transform(cc_cat_train)\n",
        "cc_cat_test = imp_cat.transform(cc_cat_test)"
      ],
      "metadata": {
        "id": "VfGKK51q7svu"
      },
      "execution_count": 160,
      "outputs": []
    },
    {
      "cell_type": "code",
      "source": [
        "#handling numerical data\n",
        "\n",
        "imp_num = SimpleImputer()\n",
        "cc_num_train = imp_num.fit_transform(cc_num_train)\n",
        "cc_num_test = imp_num.transform(cc_num_test)"
      ],
      "metadata": {
        "id": "ZSR016MN7tPn"
      },
      "execution_count": 161,
      "outputs": []
    },
    {
      "cell_type": "code",
      "source": [
        "#combine train/test\n",
        "\n",
        "cc_train = np.append(cc_num_train, cc_cat_train, axis = 1)\n",
        "cc_test = np.append(cc_num_test, cc_cat_test, axis = 1)"
      ],
      "metadata": {
        "id": "noM2xt-tATuZ"
      },
      "execution_count": 164,
      "outputs": []
    },
    {
      "cell_type": "code",
      "source": [
        "#checking if there are still some missing values\n",
        "\n",
        "print(np.where(cc_train == np.NaN))\n",
        "print(np.where(cc_test == np.NaN))\n",
        "#both arrays are empty that means we got rid of NaN values"
      ],
      "metadata": {
        "colab": {
          "base_uri": "https://localhost:8080/"
        },
        "id": "C8l-xJOwAsb_",
        "outputId": "0e3f428a-65d9-42a3-f075-085fe2f5d867"
      },
      "execution_count": 163,
      "outputs": [
        {
          "output_type": "stream",
          "name": "stdout",
          "text": [
            "(array([], dtype=int64), array([], dtype=int64))\n",
            "(array([], dtype=int64), array([], dtype=int64))\n"
          ]
        }
      ]
    },
    {
      "cell_type": "markdown",
      "source": [
        "### Encoding categorical values"
      ],
      "metadata": {
        "id": "QcrECisxFB2Y"
      }
    },
    {
      "cell_type": "code",
      "source": [
        "#splitting to features and labels to make encoding easier\n",
        "\n",
        "X_train, y_train = np.delete(cc_train, -1, 1), cc_train[:,-1] \n",
        "X_test, y_test = np.delete(cc_train, -1, 1), cc_train[:,-1] \n",
        "\n",
        "y_train = y_train.reshape(482, 1)\n",
        "y_test = y_test.reshape(482, 1)\n"
      ],
      "metadata": {
        "id": "-vAi9v0CFNSe"
      },
      "execution_count": 147,
      "outputs": []
    },
    {
      "cell_type": "code",
      "source": [
        "#Encoding the dependent variable\n",
        "\n",
        "le = LabelEncoder()\n",
        "y_train = le.fit_transform(y_train)\n",
        "y_test = le.transform(y_test)\n",
        "\n",
        "y_train = y_train.reshape(482, 1)\n",
        "y_test = y_test.reshape(482, 1)"
      ],
      "metadata": {
        "colab": {
          "base_uri": "https://localhost:8080/"
        },
        "id": "0yRnH1SQmFWN",
        "outputId": "6a5c1894-efac-4f55-9e92-57aee13b8c48"
      },
      "execution_count": 148,
      "outputs": [
        {
          "output_type": "stream",
          "name": "stderr",
          "text": [
            "/usr/local/lib/python3.7/dist-packages/sklearn/preprocessing/_label.py:115: DataConversionWarning: A column-vector y was passed when a 1d array was expected. Please change the shape of y to (n_samples, ), for example using ravel().\n",
            "  y = column_or_1d(y, warn=True)\n",
            "/usr/local/lib/python3.7/dist-packages/sklearn/preprocessing/_label.py:133: DataConversionWarning: A column-vector y was passed when a 1d array was expected. Please change the shape of y to (n_samples, ), for example using ravel().\n",
            "  y = column_or_1d(y, warn=True)\n"
          ]
        }
      ]
    },
    {
      "cell_type": "code",
      "source": [
        "#Encoding features\n",
        "\n",
        "ct = ColumnTransformer(transformers = [('cat', OneHotEncoder(), slice(5, 13))], remainder = 'passthrough')\n",
        "X_train = np.array(ct.fit_transform(X_train))\n",
        "X_test = np.array(ct.transform(X_test))"
      ],
      "metadata": {
        "id": "SWPsyj8gGSxF"
      },
      "execution_count": 150,
      "outputs": []
    },
    {
      "cell_type": "markdown",
      "source": [
        "### Scaling X values"
      ],
      "metadata": {
        "id": "M6WZFjz_ZVsX"
      }
    },
    {
      "cell_type": "code",
      "source": [
        "# Instantiate MinMaxScaler and use it to rescale X_train and X_test\n",
        "\n",
        "scaler = MinMaxScaler(feature_range=(0, 1))\n",
        "rescaledX_train = scaler.fit_transform(X_train)\n",
        "rescaledX_test = scaler.transform(X_test)"
      ],
      "metadata": {
        "id": "VRo2enjSYrgB"
      },
      "execution_count": 152,
      "outputs": []
    },
    {
      "cell_type": "code",
      "source": [
        "logreg = LogisticRegression()\n",
        "\n",
        "# Fit logreg to the train set\n",
        "logreg.fit(rescaledX_train, y_train)"
      ],
      "metadata": {
        "colab": {
          "base_uri": "https://localhost:8080/"
        },
        "id": "WG-FO3-vZzvQ",
        "outputId": "6516c93d-c6cf-4491-cbc8-dd52343286ac"
      },
      "execution_count": 155,
      "outputs": [
        {
          "output_type": "stream",
          "name": "stderr",
          "text": [
            "/usr/local/lib/python3.7/dist-packages/sklearn/utils/validation.py:993: DataConversionWarning: A column-vector y was passed when a 1d array was expected. Please change the shape of y to (n_samples, ), for example using ravel().\n",
            "  y = column_or_1d(y, warn=True)\n"
          ]
        },
        {
          "output_type": "execute_result",
          "data": {
            "text/plain": [
              "LogisticRegression()"
            ]
          },
          "metadata": {},
          "execution_count": 155
        }
      ]
    },
    {
      "cell_type": "code",
      "source": [
        "# Use logreg to predict instances from the test set and store it\n",
        "y_pred = logreg.predict(rescaledX_test)\n",
        "\n",
        "# Get the accuracy score of logreg model and print it\n",
        "print(\"Accuracy of logistic regression classifier: \", logreg.score(rescaledX_test,y_test))\n",
        "\n",
        "# Print the confusion matrix of the logreg model\n",
        "confusion_matrix(y_test,y_pred)"
      ],
      "metadata": {
        "colab": {
          "base_uri": "https://localhost:8080/"
        },
        "id": "Y7zYzczXaIN4",
        "outputId": "c25a8ab1-7f8d-40be-b1be-7b1c7b18f925"
      },
      "execution_count": 156,
      "outputs": [
        {
          "output_type": "stream",
          "name": "stdout",
          "text": [
            "Accuracy of logistic regression classifier:  0.8775933609958506\n"
          ]
        },
        {
          "output_type": "execute_result",
          "data": {
            "text/plain": [
              "array([[189,  23],\n",
              "       [ 36, 234]])"
            ]
          },
          "metadata": {},
          "execution_count": 156
        }
      ]
    }
  ],
  "metadata": {
    "language_info": {
      "name": "python"
    },
    "orig_nbformat": 4,
    "colab": {
      "provenance": [],
      "collapsed_sections": [
        "1sRgTmAW9WlO",
        "iGTcVBDAsJdm"
      ]
    },
    "kernelspec": {
      "name": "python3",
      "display_name": "Python 3"
    },
    "gpuClass": "standard"
  },
  "nbformat": 4,
  "nbformat_minor": 0
}